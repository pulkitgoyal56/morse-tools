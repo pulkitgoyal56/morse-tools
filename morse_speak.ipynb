{
 "cells": [
  {
   "cell_type": "code",
   "execution_count": 1,
   "metadata": {},
   "outputs": [],
   "source": [
    "from os import system\n",
    "from time import sleep"
   ]
  },
  {
   "cell_type": "code",
   "execution_count": 2,
   "metadata": {},
   "outputs": [],
   "source": [
    "CODE = {'A': '.-',     'B': '-...',   'C': '-.-.', \n",
    "        'D': '-..',    'E': '.',      'F': '..-.',\n",
    "        'G': '--.',    'H': '....',   'I': '..',\n",
    "        'J': '.---',   'K': '-.-',    'L': '.-..',\n",
    "        'M': '--',     'N': '-.',     'O': '---',\n",
    "        'P': '.--.',   'Q': '--.-',   'R': '.-.',\n",
    "        'S': '...',    'T': '-',      'U': '..-',\n",
    "        'V': '...-',   'W': '.--',    'X': '-..-',\n",
    "        'Y': '-.--',   'Z': '--..',\n",
    "\n",
    "        '0': '-----',  '1': '.----',  '2': '..---',\n",
    "        '3': '...--',  '4': '....-',  '5': '.....',\n",
    "        '6': '-....',  '7': '--...',  '8': '---..',\n",
    "        '9': '----.',\n",
    "        \n",
    "        '.': '.-.-.-'\n",
    "        }"
   ]
  },
  {
   "cell_type": "code",
   "execution_count": 35,
   "metadata": {},
   "outputs": [],
   "source": [
    "DIT         = \"dit\"\n",
    "DAH         = \"dah\"\n",
    "\n",
    "LETTER_GAP  = 0.7\n",
    "WORD_GAP    = 1.5\n",
    "\n",
    "WPM         = 150\n",
    "VOICE       = \"Victoria\" #Alex #Daniel #Fred #Victoria #Fiona #Samantha"
   ]
  },
  {
   "cell_type": "code",
   "execution_count": 4,
   "metadata": {},
   "outputs": [],
   "source": [
    "def say(phrase):\n",
    "    system(f' say {phrase} -r {WPM} -v {VOICE} ')"
   ]
  },
  {
   "cell_type": "code",
   "execution_count": 5,
   "metadata": {},
   "outputs": [],
   "source": [
    "def speak_code(code):\n",
    "    phrase = \"\"\n",
    "    for note in code:\n",
    "        if(note == \".\"):\n",
    "            phrase += DIT\n",
    "        elif(note == \"-\"):\n",
    "            phrase += DAH\n",
    "        phrase += \" \"\n",
    "    say(phrase)"
   ]
  },
  {
   "cell_type": "code",
   "execution_count": 6,
   "metadata": {},
   "outputs": [],
   "source": [
    "def speak_letter(letter):\n",
    "    key = letter.upper()\n",
    "    print(key, end = \"\")\n",
    "    speak_code(CODE[key])"
   ]
  },
  {
   "cell_type": "code",
   "execution_count": 7,
   "metadata": {},
   "outputs": [],
   "source": [
    "def speak_word(word):\n",
    "    i = 0\n",
    "    for letter in word:\n",
    "        speak_letter(letter)\n",
    "        i+=1\n",
    "        if(i!=len(word)):\n",
    "            sleep(LETTER_GAP)"
   ]
  },
  {
   "cell_type": "code",
   "execution_count": 8,
   "metadata": {},
   "outputs": [],
   "source": [
    "def speak_sentence(sentence):\n",
    "    i = 0\n",
    "    for word in sentence:\n",
    "        speak_word(word)\n",
    "        i+=1\n",
    "        if(i!=len(sentence)):\n",
    "            sleep(WORD_GAP)\n",
    "            print(\" \", end = \"\")"
   ]
  },
  {
   "cell_type": "code",
   "execution_count": 9,
   "metadata": {},
   "outputs": [],
   "source": [
    "def speak(message):\n",
    "    say(\"start of message\")\n",
    "    print(\"<start> \", end = \"\")\n",
    "    speak_sentence(message.split())\n",
    "    say(\"end of message\")\n",
    "    print(\" <end>\", end = \"\")"
   ]
  },
  {
   "cell_type": "code",
   "execution_count": 34,
   "metadata": {},
   "outputs": [
    {
     "name": "stdout",
     "output_type": "stream",
     "text": [
      "<start> HELLO PATRICIA <end>"
     ]
    }
   ],
   "source": [
    "speak(\"HELLO\")"
   ]
  }
 ],
 "metadata": {
  "kernelspec": {
   "display_name": "Python 3",
   "language": "python",
   "name": "python3"
  },
  "language_info": {
   "codemirror_mode": {
    "name": "ipython",
    "version": 3
   },
   "file_extension": ".py",
   "mimetype": "text/x-python",
   "name": "python",
   "nbconvert_exporter": "python",
   "pygments_lexer": "ipython3",
   "version": "3.7.3"
  }
 },
 "nbformat": 4,
 "nbformat_minor": 2
}
